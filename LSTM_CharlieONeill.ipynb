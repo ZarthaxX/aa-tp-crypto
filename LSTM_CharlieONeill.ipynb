{
 "cells": [
  {
   "cell_type": "code",
   "execution_count": 1,
   "id": "4b202f6d-73af-4e30-9d61-8e4599db076d",
   "metadata": {},
   "outputs": [],
   "source": [
    "# https://charlieoneill.medium.com/predicting-the-price-of-bitcoin-with-multivariate-pytorch-lstms-695bc294130"
   ]
  },
  {
   "cell_type": "code",
   "execution_count": 2,
   "id": "4a23c461-2bbd-4398-a515-9d918ff05de1",
   "metadata": {},
   "outputs": [],
   "source": [
    "import numpy as np\n",
    "import pandas as pd\n",
    "import matplotlib.pyplot as plt\n",
    "from torch.autograd import Variable\n",
    "import torch\n",
    "import torch.nn as nn\n",
    "import datetime, pytz\n",
    "import time"
   ]
  },
  {
   "cell_type": "code",
   "execution_count": 3,
   "id": "8b737407",
   "metadata": {},
   "outputs": [],
   "source": [
    "def dateparse (time_in_secs):    \n",
    "    return pytz.utc.localize(datetime.datetime.fromtimestamp(float(time_in_secs)))"
   ]
  },
  {
   "cell_type": "code",
   "execution_count": 4,
   "id": "ccbb9e56",
   "metadata": {},
   "outputs": [],
   "source": [
    "device = torch.device(\"cuda:0\" if torch.cuda.is_available() else \"cpu\")\n",
    "torch.cuda.empty_cache()"
   ]
  },
  {
   "cell_type": "code",
   "execution_count": 5,
   "id": "fca2f08e",
   "metadata": {},
   "outputs": [],
   "source": [
    "# DATASET \n",
    "DATASET_CUTOFF = 150000 # 150000 maximo testeado hasta ahora\n",
    "\n",
    "STEPS_IN = 100 # cantidad de filas del dataset con todos los features sin el Close que forman una secuencia\n",
    "STEPS_OUT = 50 # cantidad de filas del dataset con el Close unicamente que estan luego de la secuencia in de arriba que forman una secuencia\n",
    "\n",
    "TEST_SET_SIZE = 150\n",
    "CUTOFF_PERCENTAGE = 0.90 # porcentaje de data usado para entrenar (el resto es para testear el modelo final)\n",
    "# LSTM\n",
    "N_EPOCHS = 1000 # 1000 epochs\n",
    "LEARNING_RATE = 0.001 # 0.001 lr\n",
    "\n",
    "HIDDEN_SIZE = 2 # number of features in hidden state\n",
    "NUM_LAYERS = 1 # number of stacked lstm layers\n",
    "\n",
    "NUM_CLASSES = STEPS_OUT # number of output classes: amount of minutes in the future to be predicted\n",
    "\n",
    "HIDDEN_LAYER_FEATURES = 128"
   ]
  },
  {
   "cell_type": "markdown",
   "id": "3cd53961",
   "metadata": {},
   "source": [
    "# Load dataset"
   ]
  },
  {
   "cell_type": "code",
   "execution_count": 6,
   "id": "8b0ba3df",
   "metadata": {},
   "outputs": [
    {
     "data": {
      "text/html": [
       "<div>\n",
       "<style scoped>\n",
       "    .dataframe tbody tr th:only-of-type {\n",
       "        vertical-align: middle;\n",
       "    }\n",
       "\n",
       "    .dataframe tbody tr th {\n",
       "        vertical-align: top;\n",
       "    }\n",
       "\n",
       "    .dataframe thead th {\n",
       "        text-align: right;\n",
       "    }\n",
       "</style>\n",
       "<table border=\"1\" class=\"dataframe\">\n",
       "  <thead>\n",
       "    <tr style=\"text-align: right;\">\n",
       "      <th></th>\n",
       "      <th>Close</th>\n",
       "      <th>Volume_BTC</th>\n",
       "      <th>Volume_USD</th>\n",
       "      <th>volume_adi</th>\n",
       "      <th>volume_cmf</th>\n",
       "      <th>volume_fi</th>\n",
       "      <th>volume_vpt</th>\n",
       "      <th>volume_vwap</th>\n",
       "      <th>volatility_kcw</th>\n",
       "      <th>volatility_kchi</th>\n",
       "      <th>volatility_ui</th>\n",
       "      <th>trend_sma_slow</th>\n",
       "      <th>trend_kst_sig</th>\n",
       "      <th>trend_kst_diff</th>\n",
       "      <th>trend_ichimoku_b</th>\n",
       "      <th>trend_adx</th>\n",
       "      <th>momentum_stoch_signal</th>\n",
       "      <th>others_dr</th>\n",
       "    </tr>\n",
       "    <tr>\n",
       "      <th>Timestamp</th>\n",
       "      <th></th>\n",
       "      <th></th>\n",
       "      <th></th>\n",
       "      <th></th>\n",
       "      <th></th>\n",
       "      <th></th>\n",
       "      <th></th>\n",
       "      <th></th>\n",
       "      <th></th>\n",
       "      <th></th>\n",
       "      <th></th>\n",
       "      <th></th>\n",
       "      <th></th>\n",
       "      <th></th>\n",
       "      <th></th>\n",
       "      <th></th>\n",
       "      <th></th>\n",
       "      <th></th>\n",
       "    </tr>\n",
       "  </thead>\n",
       "  <tbody>\n",
       "    <tr>\n",
       "      <th>2019-07-06 21:37:00+00:00</th>\n",
       "      <td>11241.11</td>\n",
       "      <td>0.506080</td>\n",
       "      <td>5688.393963</td>\n",
       "      <td>37.780369</td>\n",
       "      <td>0.422601</td>\n",
       "      <td>14.772576</td>\n",
       "      <td>0.000383</td>\n",
       "      <td>11215.859656</td>\n",
       "      <td>0.263751</td>\n",
       "      <td>1.0</td>\n",
       "      <td>0.153187</td>\n",
       "      <td>11202.031154</td>\n",
       "      <td>-73.474924</td>\n",
       "      <td>28.986836</td>\n",
       "      <td>11168.07</td>\n",
       "      <td>16.996894</td>\n",
       "      <td>83.220985</td>\n",
       "      <td>0.040938</td>\n",
       "    </tr>\n",
       "    <tr>\n",
       "      <th>2019-07-06 21:38:00+00:00</th>\n",
       "      <td>11248.61</td>\n",
       "      <td>2.446861</td>\n",
       "      <td>27503.127817</td>\n",
       "      <td>40.227230</td>\n",
       "      <td>0.326028</td>\n",
       "      <td>15.283845</td>\n",
       "      <td>0.001840</td>\n",
       "      <td>11217.293823</td>\n",
       "      <td>0.256345</td>\n",
       "      <td>1.0</td>\n",
       "      <td>0.145968</td>\n",
       "      <td>11205.404231</td>\n",
       "      <td>-66.264641</td>\n",
       "      <td>28.917487</td>\n",
       "      <td>11168.07</td>\n",
       "      <td>17.982966</td>\n",
       "      <td>90.308714</td>\n",
       "      <td>0.066719</td>\n",
       "    </tr>\n",
       "    <tr>\n",
       "      <th>2019-07-06 21:39:00+00:00</th>\n",
       "      <td>11246.58</td>\n",
       "      <td>0.422433</td>\n",
       "      <td>4751.750101</td>\n",
       "      <td>39.804797</td>\n",
       "      <td>0.476931</td>\n",
       "      <td>12.977933</td>\n",
       "      <td>0.001556</td>\n",
       "      <td>11217.596144</td>\n",
       "      <td>0.198862</td>\n",
       "      <td>1.0</td>\n",
       "      <td>0.137830</td>\n",
       "      <td>11208.785769</td>\n",
       "      <td>-59.055378</td>\n",
       "      <td>28.864806</td>\n",
       "      <td>11168.32</td>\n",
       "      <td>18.920838</td>\n",
       "      <td>94.992665</td>\n",
       "      <td>-0.018047</td>\n",
       "    </tr>\n",
       "    <tr>\n",
       "      <th>2019-07-06 21:40:00+00:00</th>\n",
       "      <td>11239.11</td>\n",
       "      <td>0.146191</td>\n",
       "      <td>1643.075035</td>\n",
       "      <td>39.658607</td>\n",
       "      <td>0.438422</td>\n",
       "      <td>10.967937</td>\n",
       "      <td>-0.000173</td>\n",
       "      <td>11217.722471</td>\n",
       "      <td>0.183756</td>\n",
       "      <td>0.0</td>\n",
       "      <td>0.085534</td>\n",
       "      <td>11211.991154</td>\n",
       "      <td>-51.859535</td>\n",
       "      <td>28.746847</td>\n",
       "      <td>11168.32</td>\n",
       "      <td>19.241752</td>\n",
       "      <td>93.807300</td>\n",
       "      <td>-0.066420</td>\n",
       "    </tr>\n",
       "    <tr>\n",
       "      <th>2019-07-06 21:41:00+00:00</th>\n",
       "      <td>11223.87</td>\n",
       "      <td>0.047598</td>\n",
       "      <td>534.559330</td>\n",
       "      <td>39.611009</td>\n",
       "      <td>0.490912</td>\n",
       "      <td>9.297461</td>\n",
       "      <td>-0.000162</td>\n",
       "      <td>11221.972207</td>\n",
       "      <td>0.179193</td>\n",
       "      <td>0.0</td>\n",
       "      <td>0.083956</td>\n",
       "      <td>11215.331154</td>\n",
       "      <td>-44.676338</td>\n",
       "      <td>28.621264</td>\n",
       "      <td>11168.32</td>\n",
       "      <td>18.532349</td>\n",
       "      <td>77.568653</td>\n",
       "      <td>-0.135598</td>\n",
       "    </tr>\n",
       "  </tbody>\n",
       "</table>\n",
       "</div>"
      ],
      "text/plain": [
       "                              Close  Volume_BTC    Volume_USD  volume_adi  \\\n",
       "Timestamp                                                                   \n",
       "2019-07-06 21:37:00+00:00  11241.11    0.506080   5688.393963   37.780369   \n",
       "2019-07-06 21:38:00+00:00  11248.61    2.446861  27503.127817   40.227230   \n",
       "2019-07-06 21:39:00+00:00  11246.58    0.422433   4751.750101   39.804797   \n",
       "2019-07-06 21:40:00+00:00  11239.11    0.146191   1643.075035   39.658607   \n",
       "2019-07-06 21:41:00+00:00  11223.87    0.047598    534.559330   39.611009   \n",
       "\n",
       "                           volume_cmf  volume_fi  volume_vpt   volume_vwap  \\\n",
       "Timestamp                                                                    \n",
       "2019-07-06 21:37:00+00:00    0.422601  14.772576    0.000383  11215.859656   \n",
       "2019-07-06 21:38:00+00:00    0.326028  15.283845    0.001840  11217.293823   \n",
       "2019-07-06 21:39:00+00:00    0.476931  12.977933    0.001556  11217.596144   \n",
       "2019-07-06 21:40:00+00:00    0.438422  10.967937   -0.000173  11217.722471   \n",
       "2019-07-06 21:41:00+00:00    0.490912   9.297461   -0.000162  11221.972207   \n",
       "\n",
       "                           volatility_kcw  volatility_kchi  volatility_ui  \\\n",
       "Timestamp                                                                   \n",
       "2019-07-06 21:37:00+00:00        0.263751              1.0       0.153187   \n",
       "2019-07-06 21:38:00+00:00        0.256345              1.0       0.145968   \n",
       "2019-07-06 21:39:00+00:00        0.198862              1.0       0.137830   \n",
       "2019-07-06 21:40:00+00:00        0.183756              0.0       0.085534   \n",
       "2019-07-06 21:41:00+00:00        0.179193              0.0       0.083956   \n",
       "\n",
       "                           trend_sma_slow  trend_kst_sig  trend_kst_diff  \\\n",
       "Timestamp                                                                  \n",
       "2019-07-06 21:37:00+00:00    11202.031154     -73.474924       28.986836   \n",
       "2019-07-06 21:38:00+00:00    11205.404231     -66.264641       28.917487   \n",
       "2019-07-06 21:39:00+00:00    11208.785769     -59.055378       28.864806   \n",
       "2019-07-06 21:40:00+00:00    11211.991154     -51.859535       28.746847   \n",
       "2019-07-06 21:41:00+00:00    11215.331154     -44.676338       28.621264   \n",
       "\n",
       "                           trend_ichimoku_b  trend_adx  momentum_stoch_signal  \\\n",
       "Timestamp                                                                       \n",
       "2019-07-06 21:37:00+00:00          11168.07  16.996894              83.220985   \n",
       "2019-07-06 21:38:00+00:00          11168.07  17.982966              90.308714   \n",
       "2019-07-06 21:39:00+00:00          11168.32  18.920838              94.992665   \n",
       "2019-07-06 21:40:00+00:00          11168.32  19.241752              93.807300   \n",
       "2019-07-06 21:41:00+00:00          11168.32  18.532349              77.568653   \n",
       "\n",
       "                           others_dr  \n",
       "Timestamp                             \n",
       "2019-07-06 21:37:00+00:00   0.040938  \n",
       "2019-07-06 21:38:00+00:00   0.066719  \n",
       "2019-07-06 21:39:00+00:00  -0.018047  \n",
       "2019-07-06 21:40:00+00:00  -0.066420  \n",
       "2019-07-06 21:41:00+00:00  -0.135598  "
      ]
     },
     "execution_count": 6,
     "metadata": {},
     "output_type": "execute_result"
    }
   ],
   "source": [
    "df = pd.read_csv(\"processed_data_2/processed_bitcoin_history.csv\", index_col = 'Timestamp', parse_dates=True)\n",
    "df = df.drop(['Date','Target','Close_previous','Year','Month','Week','Weekday','Day','Hour'], axis=1)\n",
    "df.head()"
   ]
  },
  {
   "cell_type": "code",
   "execution_count": 7,
   "id": "cf58f5e7",
   "metadata": {},
   "outputs": [],
   "source": [
    "df = df[-DATASET_CUTOFF:]"
   ]
  },
  {
   "cell_type": "code",
   "execution_count": 8,
   "id": "45227cdb-3304-4d5f-9ef7-6d36bc10d26c",
   "metadata": {},
   "outputs": [
    {
     "data": {
      "image/png": "[encoded data removed]",
      "text/plain": [
       "<Figure size 432x288 with 1 Axes>"
      ]
     },
     "metadata": {
      "needs_background": "light"
     },
     "output_type": "display_data"
    }
   ],
   "source": [
    "plt.plot(df.Close)\n",
    "plt.xlabel(\"Time\")\n",
    "plt.ylabel(\"Price (USD)\")\n",
    "plt.title(\"Bitcoin price over time\")\n",
    "plt.savefig(\"initial_plot.png\", dpi=250)\n",
    "plt.show();"
   ]
  },
  {
   "cell_type": "code",
   "execution_count": 9,
   "id": "0ebe173e-60a2-4f27-80ee-a69aa061480c",
   "metadata": {},
   "outputs": [
    {
     "data": {
      "text/plain": [
       "((150000, 17), (150000,))"
      ]
     },
     "execution_count": 9,
     "metadata": {},
     "output_type": "execute_result"
    }
   ],
   "source": [
    "X, y = df.drop(columns=['Close']), df.Close.values\n",
    "X.shape, y.shape"
   ]
  },
  {
   "cell_type": "code",
   "execution_count": 10,
   "id": "c8c80a0c",
   "metadata": {},
   "outputs": [],
   "source": [
    "NUMBER_OF_FEATURES = X.shape[1]"
   ]
  },
  {
   "cell_type": "markdown",
   "id": "45ef61ff",
   "metadata": {},
   "source": [
    "# Normalization of data"
   ]
  },
  {
   "cell_type": "code",
   "execution_count": 11,
   "id": "08302dc6-13c7-4aac-b6ba-52035e049647",
   "metadata": {},
   "outputs": [
    {
     "data": {
      "text/plain": [
       "((150000, 17), (150000, 1))"
      ]
     },
     "execution_count": 11,
     "metadata": {},
     "output_type": "execute_result"
    }
   ],
   "source": [
    "from sklearn.preprocessing import StandardScaler, MinMaxScaler\n",
    "mm = MinMaxScaler()\n",
    "ss = StandardScaler()\n",
    "\n",
    "X_trans = ss.fit_transform(X)\n",
    "y_trans = mm.fit_transform(y.reshape(-1, 1))\n",
    "X_trans.shape, y_trans.shape"
   ]
  },
  {
   "cell_type": "code",
   "execution_count": 12,
   "id": "b3131a79-c51e-41f2-afd7-89f51fb7f41e",
   "metadata": {},
   "outputs": [
    {
     "name": "stdout",
     "output_type": "stream",
     "text": [
      "(149852, 100, 17) (149852, 50)\n"
     ]
    }
   ],
   "source": [
    "# TODO: Revisar lo que hicimos en lstm con los index para ver si podemos reemplazar esto\n",
    "# split a multivariate sequence past, future samples (X and y)\n",
    "def split_sequences(input_sequences, output_sequence, n_steps_in, n_steps_out):\n",
    "    X, y = list(), list() # instantiate X and y\n",
    "    for i in range(len(input_sequences)):\n",
    "        # find the end of the input, output sequence\n",
    "        end_ix = i + n_steps_in\n",
    "        out_end_ix = end_ix + n_steps_out - 1\n",
    "        # check if we are beyond the dataset\n",
    "        if out_end_ix > len(input_sequences): break\n",
    "        # gather input and output of the pattern\n",
    "        seq_x, seq_y = input_sequences[i:end_ix], output_sequence[end_ix-1:out_end_ix, -1]\n",
    "        X.append(seq_x), y.append(seq_y)\n",
    "    return np.array(X), np.array(y)\n",
    "\n",
    "X_ss, y_mm = split_sequences(X_trans, y_trans, STEPS_IN, STEPS_OUT)\n",
    "print(X_ss.shape, y_mm.shape)"
   ]
  },
  {
   "cell_type": "code",
   "execution_count": 13,
   "id": "0c41c8a7-20d5-41a8-83e5-ac9d5cb5f8a5",
   "metadata": {},
   "outputs": [
    {
     "name": "stdout",
     "output_type": "stream",
     "text": [
      "Training Shape: (149702, 100, 17) (149702, 50)\n",
      "Testing Shape: (150, 100, 17) (150, 50)\n"
     ]
    }
   ],
   "source": [
    "\n",
    "total_samples = len(X)\n",
    "train_test_cutoff = round(CUTOFF_PERCENTAGE * total_samples)\n",
    "X_train = X_ss[:-TEST_SET_SIZE]\n",
    "X_test = X_ss[-TEST_SET_SIZE:]\n",
    "y_train = y_mm[:-TEST_SET_SIZE]\n",
    "y_test = y_mm[-TEST_SET_SIZE:] \n",
    "print(\"Training Shape:\", X_train.shape, y_train.shape)\n",
    "print(\"Testing Shape:\", X_test.shape, y_test.shape) "
   ]
  },
  {
   "cell_type": "code",
   "execution_count": 14,
   "id": "0bb15118-5b46-49ff-aaf8-6e8889fc08a3",
   "metadata": {},
   "outputs": [],
   "source": [
    "# convert to pytorch tensors\n",
    "X_train_tensors = Variable(torch.Tensor(X_train).to(device))\n",
    "X_test_tensors = Variable(torch.Tensor(X_test).to(device))\n",
    "\n",
    "y_train_tensors = Variable(torch.Tensor(y_train).to(device))\n",
    "y_test_tensors = Variable(torch.Tensor(y_test).to(device))"
   ]
  },
  {
   "cell_type": "code",
   "execution_count": 15,
   "id": "e4446b6c-b984-4b71-82bf-1ad2718a722d",
   "metadata": {},
   "outputs": [
    {
     "name": "stdout",
     "output_type": "stream",
     "text": [
      "Training Shape: torch.Size([149702, 100, 17]) torch.Size([149702, 50])\n",
      "Testing Shape: torch.Size([150, 100, 17]) torch.Size([150, 50])\n"
     ]
    }
   ],
   "source": [
    "# reshaping to rows, timestamps, features\n",
    "X_train_tensors_final = torch.reshape(X_train_tensors,   \n",
    "                                      (X_train_tensors.shape[0],\n",
    "                                       X_train_tensors.shape[1], \n",
    "                                       X_train_tensors.shape[2]))\n",
    "X_test_tensors_final = torch.reshape(X_test_tensors,  \n",
    "                                     (X_test_tensors.shape[0], \n",
    "                                      X_train_tensors.shape[1],\n",
    "                                      X_test_tensors.shape[2])) \n",
    "\n",
    "print(\"Training Shape:\", X_train_tensors_final.shape, y_train_tensors.shape)\n",
    "print(\"Testing Shape:\", X_test_tensors_final.shape, y_test_tensors.shape)"
   ]
  },
  {
   "cell_type": "code",
   "execution_count": 16,
   "id": "3555bde3-64bb-470b-96c4-955306c4234b",
   "metadata": {},
   "outputs": [],
   "source": [
    "class LSTM(nn.Module):\n",
    "    \n",
    "    def __init__(self, num_classes, input_size, hidden_size, num_layers):\n",
    "        super().__init__()\n",
    "        self.num_classes = num_classes # output size\n",
    "        self.num_layers = num_layers # number of recurrent layers in the lstm\n",
    "        self.input_size = input_size # input size\n",
    "        self.hidden_size = hidden_size # neurons in each lstm layer\n",
    "        # LSTM model\n",
    "        self.lstm = nn.LSTM(input_size=input_size, hidden_size=hidden_size,\n",
    "                            num_layers=num_layers, batch_first=True, dropout=0.2).to(device) # lstm\n",
    "        self.fc_1 =  nn.Linear(hidden_size, HIDDEN_LAYER_FEATURES) # fully connected \n",
    "        self.fc_2 = nn.Linear(HIDDEN_LAYER_FEATURES, num_classes) # fully connected last layer\n",
    "        self.relu = nn.ReLU()\n",
    "        \n",
    "    def forward(self,x):\n",
    "        # hidden state\n",
    "        h_0 = Variable(torch.zeros(self.num_layers, x.size(0), self.hidden_size).to(device))\n",
    "        # cell state\n",
    "        c_0 = Variable(torch.zeros(self.num_layers, x.size(0), self.hidden_size).to(device))\n",
    "        # propagate input through LSTM\n",
    "        output, (hn, cn) = self.lstm(x, (h_0, c_0)) # (input, hidden, and internal state)\n",
    "        hn = hn.view(-1, self.hidden_size) # reshaping the data for Dense layer next\n",
    "        out = self.relu(hn)\n",
    "        out = self.fc_1(out) # first dense\n",
    "        out = self.relu(out) # relu\n",
    "        out = self.fc_2(out) # final output\n",
    "        return out"
   ]
  },
  {
   "cell_type": "code",
   "execution_count": 17,
   "id": "60601505-7509-4000-ac7e-9f53a5d3e63d",
   "metadata": {},
   "outputs": [],
   "source": [
    "def training_loop(n_epochs, lstm, optimiser, loss_fn, X_train, y_train,\n",
    "                  X_test, y_test):\n",
    "    trainLossHistory = []\n",
    "    testLossHistory = []\n",
    "    \n",
    "    print(\"Start of training.\")\n",
    "    for epoch in range(n_epochs):\n",
    "        lstm.train()\n",
    "        outputs = lstm.forward(X_train) # forward pass\n",
    "        optimiser.zero_grad() # calculate the gradient, manually setting to 0\n",
    "        # obtain the loss function\n",
    "        loss = loss_fn(outputs, y_train)\n",
    "        loss.backward() # calculates the loss of the loss function\n",
    "        optimiser.step() # improve from loss, i.e backprop\n",
    "        # test loss\n",
    "        lstm.eval()\n",
    "        test_preds = lstm(X_test)\n",
    "        test_loss = loss_fn(test_preds, y_test)\n",
    "        if epoch % 100 == 0:\n",
    "            print(\"Epoch: %d, train loss: %1.5f, test loss: %1.5f.\" % (epoch, \n",
    "                                                                      loss.item(), \n",
    "                                                                      test_loss.item())) \n",
    "        # save loss results in history\n",
    "        trainLossHistory.append(loss.item())\n",
    "        testLossHistory.append(test_loss.item())\n",
    "    \n",
    "    print(\"End of training.\")\n",
    "    return trainLossHistory, testLossHistory"
   ]
  },
  {
   "cell_type": "code",
   "execution_count": 18,
   "id": "f446ef95-0203-4a1f-9caf-cfa347878286",
   "metadata": {},
   "outputs": [],
   "source": [
    "import warnings\n",
    "warnings.filterwarnings('ignore')\n",
    "\n",
    "INPUT_SIZE = NUMBER_OF_FEATURES # number of features\n",
    "\n",
    "lstm = LSTM(\n",
    "        NUM_CLASSES, \n",
    "        INPUT_SIZE, \n",
    "        HIDDEN_SIZE, \n",
    "        NUM_LAYERS\n",
    ").to(device)"
   ]
  },
  {
   "cell_type": "code",
   "execution_count": 19,
   "id": "b92bc26f-dd88-4401-8617-7a9e63fbf4e6",
   "metadata": {},
   "outputs": [],
   "source": [
    "loss_fn = torch.nn.MSELoss()    # mean-squared error for regression\n",
    "optimiser = torch.optim.Adam(lstm.parameters(), lr=LEARNING_RATE)"
   ]
  },
  {
   "cell_type": "code",
   "execution_count": null,
   "id": "92cccd60",
   "metadata": {},
   "outputs": [],
   "source": [
    "start = time.time()\n",
    "trainLossHistory, testLossHistory = training_loop(n_epochs=N_EPOCHS,\n",
    "              lstm=lstm,\n",
    "              optimiser=optimiser,\n",
    "              loss_fn=loss_fn,\n",
    "              X_train=X_train_tensors_final,\n",
    "              y_train=y_train_tensors,\n",
    "              X_test=X_test_tensors_final,\n",
    "              y_test=y_test_tensors)\n",
    "end = time.time()"
   ]
  },
  {
   "cell_type": "code",
   "execution_count": 21,
   "id": "2d792353-46d5-4b19-98e8-dc95b0741a55",
   "metadata": {
    "scrolled": true
   },
   "outputs": [
    {
     "ename": "SyntaxError",
     "evalue": "f-string: closing parenthesis '}' does not match opening parenthesis '(' (Temp/ipykernel_20900/1200220221.py, line 1)",
     "output_type": "error",
     "traceback": [
      "\u001b[1;36m  File \u001b[1;32m\"C:\\Users\\TROPI\\AppData\\Local\\Temp/ipykernel_20900/1200220221.py\"\u001b[1;36m, line \u001b[1;32m1\u001b[0m\n\u001b[1;33m    print(f\"Elapsed time: {round(end - start}s\")\u001b[0m\n\u001b[1;37m                                               ^\u001b[0m\n\u001b[1;31mSyntaxError\u001b[0m\u001b[1;31m:\u001b[0m f-string: closing parenthesis '}' does not match opening parenthesis '('\n"
     ]
    }
   ],
   "source": [
    "print(f\"Elapsed time: {round(end - start}s\")"
   ]
  },
  {
   "cell_type": "markdown",
   "id": "b62b8dbd",
   "metadata": {},
   "source": [
    "# Optimization loss evolution for train and test"
   ]
  },
  {
   "cell_type": "code",
   "execution_count": null,
   "id": "df314409",
   "metadata": {},
   "outputs": [],
   "source": [
    "plt.figure(figsize=(10,6)) #plotting\n",
    "plt.plot(trainLossHistory, label='Train loss')\n",
    "plt.plot(testLossHistory, label='Test loss')\n",
    "plt.title('Optimization loss evolution')\n",
    "plt.legend()\n",
    "plt.savefig(\"optimization-loss-evolution.png\", dpi=300)\n",
    "plt.show() "
   ]
  },
  {
   "cell_type": "code",
   "execution_count": null,
   "id": "87cb6744-5bb3-47f9-aa95-ae2ce4a9423c",
   "metadata": {},
   "outputs": [],
   "source": [
    "df_X_ss = ss.transform(df.drop(columns=['Close'])) # old transformers\n",
    "df_y_mm = mm.transform(df.Close.values.reshape(-1, 1)) # old transformers\n",
    "# split the sequence\n",
    "df_X_ss, df_y_mm = split_sequences(df_X_ss, df_y_mm, STEPS_IN, STEPS_OUT)\n",
    "# converting to tensors\n",
    "df_X_ss = Variable(torch.Tensor(df_X_ss).to(device))\n",
    "df_y_mm = Variable(torch.Tensor(df_y_mm).to(device))\n",
    "# reshaping the dataset\n",
    "df_X_ss = torch.reshape(df_X_ss, (df_X_ss.shape[0], df_X_ss.shape[1], df_X_ss.shape[2]))\n",
    "\n",
    "train_predict = lstm(df_X_ss) # forward pass\n",
    "data_predict = train_predict.cpu().data.numpy() # numpy conversion\n",
    "dataY_plot = df_y_mm.cpu().data.numpy()\n",
    "\n",
    "data_predict = mm.inverse_transform(data_predict) # reverse transformation\n",
    "dataY_plot = mm.inverse_transform(dataY_plot)\n",
    "true, preds = [], []\n",
    "for i in range(len(dataY_plot)):\n",
    "    true.append(dataY_plot[i][0])\n",
    "for i in range(len(data_predict)):\n",
    "    preds.append(data_predict[i][0])\n",
    "plt.figure(figsize=(10,6)) #plotting\n",
    "plt.axvline(x=train_test_cutoff, c='r', linestyle='--') # size of the training set\n",
    "\n",
    "plt.plot(true, label='Actual Data') # actual plot\n",
    "plt.plot(preds, label='Predicted Data') # predicted plot\n",
    "plt.title('Time-Series Prediction')\n",
    "plt.legend()\n",
    "plt.savefig(\"whole_plot.png\", dpi=300)\n",
    "plt.show() "
   ]
  },
  {
   "cell_type": "code",
   "execution_count": null,
   "id": "271fc5b9-fbf7-4860-80db-756ec4f13c2f",
   "metadata": {},
   "outputs": [],
   "source": [
    "test_predict = lstm(X_test_tensors_final[-1].unsqueeze(0)) # get the last sample\n",
    "test_predict = test_predict.cpu().detach().numpy()\n",
    "test_predict = mm.inverse_transform(test_predict)\n",
    "test_predict = test_predict[0].tolist()\n",
    "\n",
    "test_target = y_test_tensors[-1].cpu().detach().numpy() # last sample again\n",
    "test_target = mm.inverse_transform(test_target.reshape(1, -1))\n",
    "test_target = test_target[0].tolist()\n",
    "\n",
    "plt.plot(test_target, label=\"Actual Data\")\n",
    "plt.plot(test_predict, label=\"LSTM Predictions\")\n",
    "plt.savefig(\"small_plot.png\", dpi=300)\n",
    "plt.show();"
   ]
  },
  {
   "cell_type": "code",
   "execution_count": null,
   "id": "0a5ec284-43c1-47eb-b547-e3a933f5ec55",
   "metadata": {},
   "outputs": [],
   "source": [
    "plt.figure(figsize=(10,6)) #plotting\n",
    "a = [x for x in range(train_test_cutoff, len(y))]\n",
    "plt.plot(a, y[train_test_cutoff:], label='Actual data');\n",
    "c = [x for x in range(len(y)-50, len(y))]\n",
    "plt.plot(c, test_predict, label='One-shot multi-step prediction')\n",
    "plt.axvline(x=len(y)-50, c='r', linestyle='--')\n",
    "plt.legend()\n",
    "plt.show()"
   ]
  },
  {
   "cell_type": "code",
   "execution_count": null,
   "id": "da991a5b-38ea-49e8-8dd0-ed0290959f9a",
   "metadata": {},
   "outputs": [],
   "source": [
    "# TODO: agregar un numero que represente la precision del modelo (MSE por ejemplo) para comparar los distintos modelos y con distintos parametros\n"
   ]
  }
 ],
 "metadata": {
  "kernelspec": {
   "display_name": "Python 3 (ipykernel)",
   "language": "python",
   "name": "python3"
  },
  "language_info": {
   "codemirror_mode": {
    "name": "ipython",
    "version": 3
   },
   "file_extension": ".py",
   "mimetype": "text/x-python",
   "name": "python",
   "nbconvert_exporter": "python",
   "pygments_lexer": "ipython3",
   "version": "3.10.0"
  }
 },
 "nbformat": 4,
 "nbformat_minor": 5
}
