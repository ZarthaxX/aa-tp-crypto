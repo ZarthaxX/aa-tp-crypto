{
 "cells": [
  {
   "cell_type": "code",
   "execution_count": 6,
   "id": "9b3ce700",
   "metadata": {},
   "outputs": [],
   "source": [
    "# Python ≥3.5\n",
    "import sys\n",
    "assert sys.version_info >= (3, 5)\n",
    "\n",
    "import numpy as np\n",
    "import os\n",
    "import seaborn as sns\n",
    "import pandas as pd\n",
    "import datetime as dt\n",
    "\n",
    "\n",
    "%matplotlib inline\n",
    "import matplotlib as mpl\n",
    "import matplotlib.pyplot as plt\n",
    "from matplotlib.patches import Patch\n",
    "from mpl_toolkits.mplot3d import Axes3D\n",
    "mpl.rc('axes', labelsize=14)\n",
    "mpl.rc('xtick', labelsize=12)\n",
    "mpl.rc('ytick', labelsize=12)\n",
    "\n",
    "# Scikit-Learn ≥0.20\n",
    "import sklearn\n",
    "assert sklearn.__version__ >= \"0.20\"\n",
    "\n",
    "\n",
    "from sklearn.model_selection import StratifiedShuffleSplit\n",
    "import matplotlib.pyplot as plt\n",
    "from zlib import crc32\n",
    "import hashlib\n",
    "import matplotlib.image as mpimg\n",
    "from sklearn.model_selection import train_test_split\n",
    "from six.moves import urllib\n",
    "from scipy import stats\n",
    "from sklearn.metrics import mean_squared_error\n",
    "from sklearn import metrics\n",
    "from sklearn import linear_model\n",
    "from sklearn.pipeline import Pipeline\n",
    "from sklearn.model_selection import GridSearchCV, train_test_split\n",
    "from sklearn.model_selection import (TimeSeriesSplit, KFold, ShuffleSplit,\n",
    "StratifiedKFold, GroupShuffleSplit,\n",
    "GroupKFold, StratifiedShuffleSplit,cross_val_score)\n",
    "from sklearn.linear_model import Ridge\n",
    "from sklearn.base import BaseEstimator, TransformerMixin\n",
    "from sklearn.preprocessing import (MinMaxScaler, StandardScaler, PolynomialFeatures,OrdinalEncoder,OneHotEncoder)\n",
    "from sklearn.compose import ColumnTransformer\n",
    "import statsmodels.api as sm\n",
    "import warnings\n",
    "from itertools import product\n",
    "from datetime import datetime\n",
    "warnings.filterwarnings('ignore')\n",
    "plt.style.use('seaborn-poster')\n",
    "from ta.utils import dropna\n",
    "from ta.volatility import BollingerBands\n",
    "from ta import add_all_ta_features\n",
    "import numpy as np\n",
    "import pandas as pd\n",
    "from sklearn.ensemble import *\n",
    "import xgboost as xgb\n",
    "import operator\n",
    "\n",
    "import settings\n",
    "from ta import *\n",
    "import utils\n",
    "import torch\n",
    "import torch.nn as nn\n",
    "from torch.autograd import Variable\n",
    "from sklearn.metrics import mean_absolute_error\n",
    "\n",
    "import datetime, pytz\n",
    "#define a conversion function for the native timestamps in the csv file\n",
    "def dateparse (time_in_secs):    \n",
    "    return pytz.utc.localize(datetime.datetime.fromtimestamp(float(time_in_secs)))\n",
    "\n",
    "# Donde guardar las figuras\n",
    "PROJECT_ROOT_DIR = \".\"\n",
    "CHAPTER_ID = \"end_to_end_project\"\n",
    "IMAGES_PATH = os.path.join(PROJECT_ROOT_DIR, \"images\", CHAPTER_ID)\n",
    "os.makedirs(IMAGES_PATH, exist_ok=True)\n",
    "\n",
    "def save_fig(fig_id, tight_layout=True, fig_extension=\"png\", resolution=300):\n",
    "    path = os.path.join(IMAGES_PATH, fig_id + \".\" + fig_extension)\n",
    "    print(\"Saving figure\", fig_id)\n",
    "    if tight_layout:\n",
    "        plt.tight_layout()\n",
    "    plt.savefig(path, format=fig_extension, dpi=resolution)"
   ]
  },
  {
   "cell_type": "markdown",
   "id": "965d9bd6",
   "metadata": {},
   "source": [
    "# Model definition\n",
    "- ARIMA\n",
    "- LTSM"
   ]
  },
  {
   "cell_type": "code",
   "execution_count": null,
   "id": "dec553f5",
   "metadata": {},
   "outputs": [],
   "source": [
    "\n",
    "def training_loop(n_epochs, lstm, optimiser, loss_fn, X_train, y_train,\n",
    "                  X_test, y_test):\n",
    "    for epoch in range(n_epochs):\n",
    "        lstm.train()\n",
    "        outputs = lstm.forward(X_train) # forward pass\n",
    "        optimiser.zero_grad() # calculate the gradient, manually setting to 0\n",
    "        # obtain the loss function\n",
    "        loss = loss_fn(outputs, y_train)\n",
    "        loss.backward() # calculates the loss of the loss function\n",
    "        optimiser.step() # improve from loss, i.e backprop\n",
    "        # test loss\n",
    "        lstm.eval()\n",
    "        test_preds = lstm(X_test)\n",
    "        test_loss = loss_fn(test_preds, y_test)\n",
    "        if epoch % 100 == 0:\n",
    "            print(\"Epoch: %d, train loss: %1.5f, test loss: %1.5f\" % (epoch, \n",
    "                                                                      loss.item(), \n",
    "                                                                      test_loss.item()))"
   ]
  },
  {
   "cell_type": "code",
   "execution_count": 33,
   "id": "19e135cc",
   "metadata": {},
   "outputs": [],
   "source": [
    "class LSTM(nn.Module):\n",
    "    # tendriamos que ir probando iterativamente la cantidad de capas\n",
    "    def __init__(self, num_classes, input_size, hidden_size, num_layers):\n",
    "        super().__init__()\n",
    "        self.num_classes = num_classes # output size\n",
    "        self.num_layers = num_layers # number of recurrent layers in the lstm\n",
    "        self.input_size = input_size # input size\n",
    "        self.hidden_size = hidden_size # neurons in each lstm layer\n",
    "        # LSTM model\n",
    "        self.lstm = nn.LSTM(input_size=input_size, hidden_size=hidden_size,\n",
    "                            num_layers=num_layers, batch_first=True, dropout=0.2) # lstm\n",
    "        self.fc_1 =  nn.Linear(hidden_size, 128) # fully connected \n",
    "        self.fc_2 = nn.Linear(128, num_classes) # fully connected last layer\n",
    "        self.relu = nn.ReLU()\n",
    "        \n",
    "    def forward(self,x):\n",
    "        # hidden state\n",
    "        h_0 = Variable(torch.zeros(self.num_layers, x.size(0), self.hidden_size))\n",
    "        # cell state\n",
    "        c_0 = Variable(torch.zeros(self.num_layers, x.size(0), self.hidden_size))\n",
    "        # propagate input through LSTM\n",
    "        output, (hn, cn) = self.lstm(x, (h_0, c_0)) # (input, hidden, and internal state)\n",
    "        hn = hn.view(-1, self.hidden_size) # reshaping the data for Dense layer next\n",
    "        out = self.relu(hn)\n",
    "        out = self.fc_1(out) # first dense\n",
    "        out = self.relu(out) # relu\n",
    "        out = self.fc_2(out) # final output\n",
    "        return out"
   ]
  },
  {
   "cell_type": "markdown",
   "id": "3591446c",
   "metadata": {},
   "source": [
    "# Find best hyperparameters\n",
    "GridsearchCV"
   ]
  },
  {
   "cell_type": "code",
   "execution_count": null,
   "id": "631f1c8a",
   "metadata": {},
   "outputs": [],
   "source": [
    "tscv = TimeSeriesSplit(n_splits=5)\n",
    "gsearch = GridSearchCV(estimator=model, cv=tscv,\n",
    "                        param_grid=param_search)\n",
    "gsearch.fit(X, y)"
   ]
  },
  {
   "cell_type": "markdown",
   "id": "483fb98d",
   "metadata": {},
   "source": [
    "## Split train - test"
   ]
  },
  {
   "cell_type": "code",
   "execution_count": 38,
   "id": "95e2c7d8",
   "metadata": {},
   "outputs": [],
   "source": [
    "bitcoin_hist = pd.read_csv(\"data/bitstampUSD_1-min_data_2012-01-01_to_2021-03-31.csv\",\n",
    "                 parse_dates=[0],\n",
    "                 date_parser=dateparse)"
   ]
  },
  {
   "cell_type": "code",
   "execution_count": 39,
   "id": "346a5e7e",
   "metadata": {},
   "outputs": [],
   "source": [
    "bitcoin_hist.rename(columns={'Volume_(BTC)':'Volume_BTC','Volume_(Currency)':'Volume_USD'}, inplace=True)\n",
    "start = bitcoin_hist.Timestamp.searchsorted(dateparse(1594080000))\n",
    "end = bitcoin_hist.Timestamp.searchsorted(dateparse(1617062400))\n",
    "bitcoin_hist = bitcoin_hist[start:end]\n",
    "df = bitcoin_hist.dropna().copy()"
   ]
  },
  {
   "cell_type": "code",
   "execution_count": 40,
   "id": "d1d46fe5",
   "metadata": {},
   "outputs": [],
   "source": [
    "df = df.reset_index().copy()"
   ]
  },
  {
   "cell_type": "code",
   "execution_count": 41,
   "id": "7323f2f2",
   "metadata": {},
   "outputs": [],
   "source": [
    "last_items = int(df.Timestamp.count()*0.2)\n",
    "X = df.head(df.Timestamp.count()-last_items)\n",
    "y = df.tail(last_items)"
   ]
  },
  {
   "cell_type": "code",
   "execution_count": 34,
   "id": "b405b68d",
   "metadata": {},
   "outputs": [],
   "source": [
    "num_epochs = 20\n",
    "learning_rate = 0.01\n",
    "\n",
    "input_size = 27\n",
    "hidden_size = 2\n",
    "num_layers = 1\n",
    "\n",
    "num_classes = 28\n",
    "\n",
    "lstm = LSTM(num_classes, input_size, hidden_size, num_layers)\n",
    "\n",
    "criterion = torch.nn.MSELoss()    # mean-squared error for regression\n",
    "optimizer = torch.optim.Adam(lstm.parameters(), lr=learning_rate)"
   ]
  },
  {
   "cell_type": "code",
   "execution_count": 61,
   "id": "2793cc90",
   "metadata": {},
   "outputs": [
    {
     "name": "stdout",
     "output_type": "stream",
     "text": [
      "TRAIN: [    0     1     2 ... 50570 50571 50572] TEST: [ 50573  50574  50575 ... 101141 101142 101143]\n",
      "TRAIN: [     0      1      2 ... 101141 101142 101143] TEST: [101144 101145 101146 ... 151712 151713 151714]\n",
      "TRAIN: [     0      1      2 ... 151712 151713 151714] TEST: [151715 151716 151717 ... 202283 202284 202285]\n",
      "TRAIN: [     0      1      2 ... 202283 202284 202285] TEST: [202286 202287 202288 ... 252854 252855 252856]\n",
      "TRAIN: [     0      1      2 ... 252854 252855 252856] TEST: [252857 252858 252859 ... 303425 303426 303427]\n"
     ]
    }
   ],
   "source": [
    "tscv = TimeSeriesSplit(n_splits=1) #TODO: revisar si tenemos que fijar el tamaño para test\n",
    "for train_index, test_index in tscv.split(X):\n",
    "    print(\"TRAIN:\", train_index, \"TEST:\", test_index)\n",
    "    X_train, X_test = X.iloc[train_index], X.iloc[test_index]\n",
    "    y_train, y_test = X_train[['Close']], X_test[['Close']]\n",
    "    X_train = X_train.drop('Close', axis=1) \n",
    "    X_test = X_test.drop('Close', axis=1)\n",
    "\n",
    "    #https://machinelearningmastery.com/reshape-input-data-long-short-term-memory-networks-keras/\n",
    "    X_train_tensors = Variable(torch.Tensor(X_train\n",
    "                                            .drop('Timestamp', axis=1)#sacar cuando procesemos los datos\n",
    "                                            .values))\n",
    "    X_test_tensors = Variable(torch.Tensor(X_test\n",
    "                                           .drop('Timestamp', axis=1)#sacar cuando procesemos los datos\n",
    "                                           .values))\n",
    "\n",
    "    y_train_tensors = Variable(torch.Tensor(y_train.values))\n",
    "    y_test_tensors = Variable(torch.Tensor(y_test.values))\n",
    "\n",
    "    # reshaping to rows, timestamps, features\n",
    "    X_train_tensors_final = torch.reshape(X_train_tensors,   \n",
    "                                          (X_train_tensors.shape[0], 1, \n",
    "                                           X_train_tensors.shape[1]))\n",
    "    X_test_tensors_final = torch.reshape(X_test_tensors,  \n",
    "                                         (X_test_tensors.shape[0], 1, \n",
    "                                          X_test_tensors.shape[1])) "
   ]
  },
  {
   "cell_type": "code",
   "execution_count": null,
   "id": "82416b4c",
   "metadata": {},
   "outputs": [],
   "source": [
    "n_epochs = 1000 # 1000 epochs\n",
    "learning_rate = 0.001 # 0.001 lr\n",
    "\n",
    "input_size = 28 # number of features\n",
    "hidden_size = 14 # number of features in hidden state\n",
    "num_layers = 1 # number of stacked lstm layers\n",
    "\n",
    "num_classes = 1 # number of output classes \n",
    "\n",
    "lstm = LSTM(num_classes, \n",
    "              input_size, \n",
    "              hidden_size, \n",
    "              num_layers)"
   ]
  },
  {
   "cell_type": "code",
   "execution_count": null,
   "id": "72f75f9e",
   "metadata": {},
   "outputs": [],
   "source": [
    "training_loop(n_epochs=n_epochs,\n",
    "              lstm=lstm,\n",
    "              optimiser=optimiser,\n",
    "              loss_fn=loss_fn,\n",
    "              X_train=X_train_tensors_final,\n",
    "              y_train=y_train_tensors,\n",
    "              X_test=X_test_tensors_final,\n",
    "              y_test=y_test_tensors)"
   ]
  },
  {
   "cell_type": "code",
   "execution_count": null,
   "id": "16d91f3d",
   "metadata": {},
   "outputs": [],
   "source": []
  }
 ],
 "metadata": {
  "kernelspec": {
   "display_name": "Python 3",
   "language": "python",
   "name": "python3"
  },
  "language_info": {
   "codemirror_mode": {
    "name": "ipython",
    "version": 3
   },
   "file_extension": ".py",
   "mimetype": "text/x-python",
   "name": "python",
   "nbconvert_exporter": "python",
   "pygments_lexer": "ipython3",
   "version": "3.8.10"
  }
 },
 "nbformat": 4,
 "nbformat_minor": 5
}
