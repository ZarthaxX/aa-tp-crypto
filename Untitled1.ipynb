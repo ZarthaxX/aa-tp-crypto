{
 "cells": [
  {
   "cell_type": "code",
   "execution_count": 1,
   "id": "9b3ce700",
   "metadata": {},
   "outputs": [],
   "source": [
    "# Python ≥3.5\n",
    "import sys\n",
    "assert sys.version_info >= (3, 5)\n",
    "\n",
    "import numpy as np\n",
    "import os\n",
    "import seaborn as sns\n",
    "import pandas as pd\n",
    "import datetime as dt\n",
    "\n",
    "%matplotlib inline\n",
    "import matplotlib as mpl\n",
    "import matplotlib.pyplot as plt\n",
    "from matplotlib.patches import Patch\n",
    "from mpl_toolkits.mplot3d import Axes3D\n",
    "mpl.rc('axes', labelsize=14)\n",
    "mpl.rc('xtick', labelsize=12)\n",
    "mpl.rc('ytick', labelsize=12)\n",
    "\n",
    "# Scikit-Learn ≥0.20\n",
    "import sklearn\n",
    "assert sklearn.__version__ >= \"0.20\"\n",
    "\n",
    "\n",
    "from sklearn.model_selection import StratifiedShuffleSplit\n",
    "import matplotlib.pyplot as plt\n",
    "from zlib import crc32\n",
    "import hashlib\n",
    "import matplotlib.image as mpimg\n",
    "from sklearn.model_selection import train_test_split\n",
    "from six.moves import urllib\n",
    "from scipy import stats\n",
    "from sklearn.metrics import mean_squared_error\n",
    "from sklearn import metrics\n",
    "from sklearn import linear_model\n",
    "from sklearn.pipeline import Pipeline\n",
    "from sklearn.model_selection import GridSearchCV, train_test_split\n",
    "from sklearn.model_selection import (TimeSeriesSplit, KFold, ShuffleSplit,\n",
    "StratifiedKFold, GroupShuffleSplit,\n",
    "GroupKFold, StratifiedShuffleSplit,cross_val_score)\n",
    "from sklearn.linear_model import Ridge\n",
    "from sklearn.base import BaseEstimator, TransformerMixin\n",
    "from sklearn.preprocessing import (StandardScaler, PolynomialFeatures)\n",
    "from sklearn.compose import ColumnTransformer\n",
    "from sklearn.preprocessing import (OrdinalEncoder,OneHotEncoder)\n",
    "import statsmodels.api as sm\n",
    "import warnings\n",
    "from itertools import product\n",
    "from datetime import datetime\n",
    "warnings.filterwarnings('ignore')\n",
    "plt.style.use('seaborn-poster')\n",
    "from ta.utils import dropna\n",
    "from ta.volatility import BollingerBands\n",
    "from ta import add_all_ta_features\n",
    "import numpy as np\n",
    "import pandas as pd\n",
    "from sklearn.ensemble import *\n",
    "import xgboost as xgb\n",
    "import operator\n",
    "\n",
    "import settings\n",
    "from ta import *\n",
    "import utils\n",
    "\n",
    "import datetime, pytz\n",
    "#define a conversion function for the native timestamps in the csv file\n",
    "def dateparse (time_in_secs):    \n",
    "    return pytz.utc.localize(datetime.datetime.fromtimestamp(float(time_in_secs)))\n",
    "\n",
    "# Donde guardar las figuras\n",
    "PROJECT_ROOT_DIR = \".\"\n",
    "CHAPTER_ID = \"end_to_end_project\"\n",
    "IMAGES_PATH = os.path.join(PROJECT_ROOT_DIR, \"images\", CHAPTER_ID)\n",
    "os.makedirs(IMAGES_PATH, exist_ok=True)\n",
    "\n",
    "def save_fig(fig_id, tight_layout=True, fig_extension=\"png\", resolution=300):\n",
    "    path = os.path.join(IMAGES_PATH, fig_id + \".\" + fig_extension)\n",
    "    print(\"Saving figure\", fig_id)\n",
    "    if tight_layout:\n",
    "        plt.tight_layout()\n",
    "    plt.savefig(path, format=fig_extension, dpi=resolution)"
   ]
  },
  {
   "cell_type": "markdown",
   "id": "965d9bd6",
   "metadata": {},
   "source": [
    "# Model definition\n",
    "- ARIMA\n",
    "- LTSM"
   ]
  },
  {
   "cell_type": "markdown",
   "id": "3591446c",
   "metadata": {},
   "source": [
    "# Find best hyperparameters\n",
    "GridsearchCV"
   ]
  },
  {
   "cell_type": "code",
   "execution_count": null,
   "id": "631f1c8a",
   "metadata": {},
   "outputs": [],
   "source": [
    "tscv = TimeSeriesSplit(n_splits=5)\n",
    "gsearch = GridSearchCV(estimator=model, cv=tscv,\n",
    "                        param_grid=param_search)\n",
    "gsearch.fit(X, y)"
   ]
  },
  {
   "cell_type": "markdown",
   "id": "483fb98d",
   "metadata": {},
   "source": [
    "## Split train - test"
   ]
  },
  {
   "cell_type": "code",
   "execution_count": 2,
   "id": "95e2c7d8",
   "metadata": {},
   "outputs": [],
   "source": [
    "bitcoin_hist = pd.read_csv(\"data/bitstampUSD_1-min_data_2012-01-01_to_2021-03-31.csv\",\n",
    "                 parse_dates=[0],\n",
    "                 date_parser=dateparse)"
   ]
  },
  {
   "cell_type": "code",
   "execution_count": 3,
   "id": "346a5e7e",
   "metadata": {},
   "outputs": [],
   "source": [
    "bitcoin_hist.rename(columns={'Volume_(BTC)':'Volume_BTC','Volume_(Currency)':'Volume_USD'}, inplace=True)\n",
    "start = bitcoin_hist.Timestamp.searchsorted(dateparse(1594080000))\n",
    "end = bitcoin_hist.Timestamp.searchsorted(dateparse(1617062400))\n",
    "bitcoin_hist = bitcoin_hist[start:end]\n",
    "df = bitcoin_hist.dropna().copy()"
   ]
  },
  {
   "cell_type": "code",
   "execution_count": 12,
   "id": "d1d46fe5",
   "metadata": {},
   "outputs": [],
   "source": [
    "df = df.reset_index().copy()"
   ]
  },
  {
   "cell_type": "code",
   "execution_count": 13,
   "id": "7323f2f2",
   "metadata": {},
   "outputs": [],
   "source": [
    "last_items = int(df.Timestamp.count()*0.2)\n",
    "X = df.head(df.Timestamp.count()-last_items)\n",
    "y = df.tail(last_items)"
   ]
  },
  {
   "cell_type": "code",
   "execution_count": 24,
   "id": "2793cc90",
   "metadata": {},
   "outputs": [
    {
     "name": "stdout",
     "output_type": "stream",
     "text": [
      "TRAIN: [    0     1     2 ... 50570 50571 50572] TEST: [ 50573  50574  50575 ... 101141 101142 101143]\n",
      "TRAIN: [     0      1      2 ... 101141 101142 101143] TEST: [101144 101145 101146 ... 151712 151713 151714]\n",
      "TRAIN: [     0      1      2 ... 151712 151713 151714] TEST: [151715 151716 151717 ... 202283 202284 202285]\n",
      "TRAIN: [     0      1      2 ... 202283 202284 202285] TEST: [202286 202287 202288 ... 252854 252855 252856]\n",
      "TRAIN: [     0      1      2 ... 252854 252855 252856] TEST: [252857 252858 252859 ... 303425 303426 303427]\n"
     ]
    }
   ],
   "source": [
    "tscv = TimeSeriesSplit(n_splits=5) #TODO: revisar si tenemos que fijar el tamaño para test\n",
    "for train_index, test_index in tscv.split(X):\n",
    "    print(\"TRAIN:\", train_index, \"TEST:\", test_index)\n",
    "    X_train, X_test = X.iloc[train_index], X.iloc[test_index]\n",
    "    X_test = X_test.Closed\n",
    "    # cross validation train "
   ]
  },
  {
   "cell_type": "code",
   "execution_count": null,
   "id": "19e135cc",
   "metadata": {},
   "outputs": [],
   "source": []
  }
 ],
 "metadata": {
  "kernelspec": {
   "display_name": "Python 3",
   "language": "python",
   "name": "python3"
  },
  "language_info": {
   "codemirror_mode": {
    "name": "ipython",
    "version": 3
   },
   "file_extension": ".py",
   "mimetype": "text/x-python",
   "name": "python",
   "nbconvert_exporter": "python",
   "pygments_lexer": "ipython3",
   "version": "3.8.10"
  }
 },
 "nbformat": 4,
 "nbformat_minor": 5
}
